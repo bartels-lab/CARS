{
 "cells": [
  {
   "cell_type": "code",
   "execution_count": 1,
   "id": "c49a6aa1",
   "metadata": {},
   "outputs": [
    {
     "name": "stdout",
     "output_type": "stream",
     "text": [
      "SDK2 cameras: 1\n",
      "Shamrock spectrographs: ['SR0455', 'SR0455']\n",
      "Camera sensor size: 1600 × 400 pixels\n",
      "Spectrometer info: TDeviceInfo(serial_number='SR0455')\n",
      "Number of gratings: 3\n",
      "Grating 1: TGratingInfo(lines=300.0, blaze_wavelength='1000', home=-15983, offset=-22)\n",
      "Grating 2: TGratingInfo(lines=600.0, blaze_wavelength='500', home=144133, offset=-100)\n",
      "Grating 3: TGratingInfo(lines=1200.0, blaze_wavelength='300', home=304234, offset=0)\n",
      "\n",
      "=== TEST: Initial Positions ===\n",
      "XY: (1.49892, 1.50677)\n",
      "Z: -0.45970000000000005\n"
     ]
    }
   ],
   "source": [
    "#Initialize the hardware\n",
    "\n",
    "import matplotlib.pyplot as plt\n",
    "import numpy as np\n",
    "import time\n",
    "\n",
    "from pylablib.devices.Andor import AndorSDK2Camera, ShamrockSpectrograph\n",
    "from pylablib.devices import Andor\n",
    "\n",
    "from ASIStage import ASIStage\n",
    "\n",
    "\n",
    "print(\"SDK2 cameras:\", Andor.get_cameras_number_SDK2())\n",
    "print(\"Shamrock spectrographs:\", Andor.list_shamrock_spectrographs())\n",
    "\n",
    "#connect to the andor camera (Newton)\n",
    "#cam = AndorSDK2Camera(temperature=-40, fan_mode=\"full\")\n",
    "cam = AndorSDK2Camera()\n",
    "\n",
    "cam.set_temperature(-40,\"True\")\n",
    "\n",
    "\n",
    "width, height = cam.get_detector_size()\n",
    "print(f\"Camera sensor size: {width} × {height} pixels\")\n",
    "\n",
    "# — Spectrometer —\n",
    "# ShamrockSpectrograph doesn’t need a context manager\n",
    "spec = ShamrockSpectrograph()\n",
    "info = spec.get_device_info()  # e.g. ('SR0455', ...)\n",
    "print(\"Spectrometer info:\", info)\n",
    "\n",
    "num_gratings = spec.get_gratings_number()\n",
    "print(f\"Number of gratings: {num_gratings}\")\n",
    "\n",
    "for i in range(1, num_gratings+1):\n",
    "    info = spec.get_grating_info(i)\n",
    "    print(f\"Grating {i}: {info}\")\n",
    "\n",
    "spec.set_grating(1)  # 300 lines/mm\n",
    "\n",
    "\n",
    "\n",
    "# --- Initialize stage with velocities ---\n",
    "stage = ASIStage(xy_velocity=1000, z_velocity=50, units=\"mm\")\n",
    "\n",
    "print(\"\\n=== TEST: Initial Positions ===\")\n",
    "print(\"XY:\", stage.get_xy())\n",
    "print(\"Z:\", stage.get_z())"
   ]
  },
  {
   "cell_type": "code",
   "execution_count": 2,
   "id": "bcbfd48e",
   "metadata": {},
   "outputs": [
    {
     "name": "stdout",
     "output_type": "stream",
     "text": [
      "\n",
      "=== TEST: Initial Positions ===\n",
      "XY: (1.49892, 1.50677)\n",
      "Z: -0.45970000000000005\n"
     ]
    }
   ],
   "source": [
    "print(\"\\n=== TEST: Initial Positions ===\")\n",
    "print(\"XY:\", stage.get_xy())\n",
    "print(\"Z:\", stage.get_z())"
   ]
  },
  {
   "cell_type": "code",
   "execution_count": 3,
   "id": "93e2ea29",
   "metadata": {},
   "outputs": [
    {
     "name": "stdout",
     "output_type": "stream",
     "text": [
      "Channel:      1\n",
      "Amplifier:    EM\n",
      "HS Speed idx: 0 → 2.50 MHz\n",
      "Preamp idx:   2 → 4.0×\n",
      "Exposure time: 0.10000000149011612 s\n",
      "EM gain: (160, 0)\n",
      "Read Mode: fvb\n",
      "Acquisition Mode: single\n"
     ]
    }
   ],
   "source": [
    "# ---------------------------\n",
    "# Configure Spectromter and Camera\n",
    "# ---------------------------\n",
    "exposure_time = 0.1  # seconds\n",
    "em_gain = 160        # Gain between 0-255 for EMCCD models\n",
    "\n",
    "# Set full vertical binning (FVB)\n",
    "# FVB means bin across all vertical pixels — so ROI height is 1\n",
    "sensor_width, sensor_height = cam.get_detector_size()\n",
    "\n",
    "cam.set_read_mode(\"fvb\")\n",
    "\n",
    "cam.set_acquisition_mode(1) # set for a single scan\n",
    "\n",
    "\n",
    "# cam.set_roi(0, cam.get_detector_size()[0])\n",
    "\n",
    "cam.set_exposure(exposure_time)\n",
    "\n",
    "cam.set_EMCCD_gain(em_gain)\n",
    "\n",
    "cam.set_amp_mode(channel=1, oamp=0, hsspeed=0, preamp=2)\n",
    "\n",
    "mode = cam.get_amp_mode(full=True)\n",
    "print(f\"Channel:      {mode.channel}\")\n",
    "print(f\"Amplifier:    {'EM' if mode.oamp==0 else 'Conventional'}\")\n",
    "print(f\"HS Speed idx: {mode.hsspeed} → {mode.hsspeed_MHz:.2f} MHz\")\n",
    "print(f\"Preamp idx:   {mode.preamp} → {mode.preamp_gain:.1f}×\")\n",
    "\n",
    "# Optional: Print some status\n",
    "print(f\"Exposure time: {cam.get_exposure()} s\")\n",
    "print(f\"EM gain: {cam.get_EMCCD_gain()}\")\n",
    "print(f\"Read Mode: {cam.get_read_mode()}\")\n",
    "print(f\"Acquisition Mode: {cam.get_acquisition_mode()}\")\n",
    "\n"
   ]
  },
  {
   "cell_type": "code",
   "execution_count": 3,
   "id": "7fa2fc1c",
   "metadata": {},
   "outputs": [
    {
     "data": {
      "text/plain": [
       "'idle'"
      ]
     },
     "execution_count": 3,
     "metadata": {},
     "output_type": "execute_result"
    }
   ],
   "source": [
    "cam.get_status()"
   ]
  },
  {
   "cell_type": "code",
   "execution_count": 7,
   "id": "f28d2290",
   "metadata": {},
   "outputs": [
    {
     "data": {
      "text/plain": [
       "-31.22100067138672"
      ]
     },
     "execution_count": 7,
     "metadata": {},
     "output_type": "execute_result"
    }
   ],
   "source": [
    "cam.get_temperature()"
   ]
  },
  {
   "cell_type": "code",
   "execution_count": 19,
   "id": "7551b851",
   "metadata": {},
   "outputs": [
    {
     "data": {
      "text/plain": [
       "9.200000000000001e-07"
      ]
     },
     "execution_count": 19,
     "metadata": {},
     "output_type": "execute_result"
    }
   ],
   "source": [
    "spec.get_wavelength()"
   ]
  },
  {
   "cell_type": "code",
   "execution_count": 26,
   "id": "da3dff69",
   "metadata": {},
   "outputs": [
    {
     "name": "stdout",
     "output_type": "stream",
     "text": [
      "Wavelength range: 787.11 nm to 1051.93 nm\n"
     ]
    }
   ],
   "source": [
    "spec.set_wavelength(920e-9)\n",
    "\n",
    "spec.setup_pixels_from_camera(cam)\n",
    "specAxis = spec.get_calibration()\n",
    "# If it’s not already an array, convert it:\n",
    "specAxis = np.array(specAxis/1e-9)\n",
    "\n",
    "# Now get min/max:\n",
    "wl_min = specAxis.min()\n",
    "wl_max = specAxis.max()\n",
    "print(f\"Wavelength range: {wl_min:.2f} nm to {wl_max:.2f} nm\")"
   ]
  },
  {
   "cell_type": "code",
   "execution_count": 9,
   "id": "03c159e0",
   "metadata": {},
   "outputs": [
    {
     "name": "stdout",
     "output_type": "stream",
     "text": [
      "Spectrum acquired. Length: 5\n"
     ]
    },
    {
     "data": {
      "image/png": "[encoded data removed]",
      "text/plain": [
       "<Figure size 800x400 with 1 Axes>"
      ]
     },
     "metadata": {},
     "output_type": "display_data"
    }
   ],
   "source": [
    "\n",
    "\n",
    "frame = cam.grab(5)\n",
    "stack = np.vstack(frame)  \n",
    "avg_spectrum = stack.mean(axis=0)\n",
    "\n",
    "\n",
    "#frame = cam.snap()\n",
    "\n",
    "print(\"Spectrum acquired. Length:\", len(frame))\n",
    "\n",
    "# ---------------------------\n",
    "# Plot the spectrum\n",
    "# ---------------------------\n",
    "plt.figure(figsize=(8, 4))\n",
    "plt.plot(specAxis,avg_spectrum, label='Raw EMCCD Signal')\n",
    "plt.xlabel(\"Wavelength (nm)\")\n",
    "plt.ylabel(\"Intensity (a.u.)\")\n",
    "plt.title(\"Newton EMCCD Spectrum (FVB)\")\n",
    "plt.legend()\n",
    "plt.tight_layout()\n",
    "plt.show()"
   ]
  },
  {
   "cell_type": "code",
   "execution_count": null,
   "id": "89331618",
   "metadata": {},
   "outputs": [],
   "source": [
    "# --- Absolute Move ---\n",
    "#print(\"\\n=== TEST: Absolute Move ===\")\n",
    "#stage.move_xy(1, 1)   # 1 mm\n",
    "#stage.move_z(0.5)     # 0.5 mm\n",
    "#print(\"After absolute move:\")\n",
    "#print(\"XY:\", stage.get_xy())\n",
    "#print(\"Z:\", stage.get_z())"
   ]
  },
  {
   "cell_type": "code",
   "execution_count": 10,
   "id": "6ccb6ca9",
   "metadata": {},
   "outputs": [
    {
     "name": "stdout",
     "output_type": "stream",
     "text": [
      "Scan done, cube.shape = (10, 10, 1600)\n"
     ]
    }
   ],
   "source": [
    "import numpy as np\n",
    "import time\n",
    "\n",
    "\n",
    "def scan_xy_simple(stage, cam, spec,\n",
    "                   x_size_um, y_size_um, Nx, Ny,\n",
    "                   n_frames=5, settle_s=0.1):\n",
    "    # compute mm ranges\n",
    "    \n",
    "    x0, y0 = stage.get_xy()\n",
    "\n",
    "\n",
    "    x_mm = x_size_um*1e-3; y_mm = y_size_um*1e-3\n",
    "    x_pos = np.linspace(x0 - x_mm/2, x0 + x_mm/2, Nx)\n",
    "    y_pos = np.linspace(y0 - y_mm/2, y0 + y_mm/2, Ny)\n",
    "\n",
    "    # prep wavelength axis\n",
    "    spec.setup_pixels_from_camera(cam)\n",
    "    specAxis = np.array(spec.get_calibration())\n",
    "    Npix = specAxis.size\n",
    "    data = np.zeros((Nx, Ny, Npix), float)\n",
    "\n",
    "    for ix, x in enumerate(x_pos):\n",
    "        \n",
    "        stage.move_xy(x, y0, wait=True)\n",
    "        time.sleep(settle_s)\n",
    "\n",
    "        for iy, y in enumerate(y_pos):\n",
    "            \n",
    "            stage.move_xy(x, y, wait=True)\n",
    "            time.sleep(settle_s)\n",
    "\n",
    "            frames = cam.grab(n_frames)\n",
    "            stack  = np.vstack([f.squeeze() for f in frames])\n",
    "            data[ix, iy] = stack.mean(axis=0)\n",
    "\n",
    "    return specAxis, data\n",
    "\n",
    "# …then call it once velocities are set…\n",
    "specAxis, cube = scan_xy_simple(\n",
    "    stage, cam, spec,\n",
    "    x_size_um=1000, y_size_um=1000,\n",
    "    Nx=10, Ny=10,\n",
    "    n_frames=5,\n",
    "    settle_s=0.1\n",
    ")\n",
    "print(\"Scan done, cube.shape =\", cube.shape)\n",
    "\n"
   ]
  },
  {
   "cell_type": "code",
   "execution_count": 18,
   "id": "6ab57d2d",
   "metadata": {},
   "outputs": [
    {
     "name": "stdout",
     "output_type": "stream",
     "text": [
      "Saved to scan_results.npz\n"
     ]
    }
   ],
   "source": [
    "np.savez('scan_results4.npz',\n",
    "         specAxis=specAxis,\n",
    "         data=cube)\n",
    "print(\"Saved to scan_results.npz\")"
   ]
  },
  {
   "cell_type": "code",
   "execution_count": 17,
   "id": "3d6716c2",
   "metadata": {},
   "outputs": [
    {
     "data": {
      "image/png": "[encoded data removed]",
      "text/plain": [
       "<Figure size 600x400 with 1 Axes>"
      ]
     },
     "metadata": {},
     "output_type": "display_data"
    }
   ],
   "source": [
    "\n",
    "# choose your pixel indices (Python is 0-based)\n",
    "row, col = 4, 5    # top-left corner\n",
    "spectrum = cube[row, col, :]\n",
    "\n",
    "plt.figure(figsize=(6,4))\n",
    "plt.plot(specAxis, spectrum, lw=1.5)\n",
    "plt.xlabel(\"Wavelength (nm)\")\n",
    "plt.ylabel(\"Intensity (a.u.)\")\n",
    "plt.title(f\"Spectrum at pixel ({row}, {col})\")\n",
    "plt.grid(True)\n",
    "plt.tight_layout()\n",
    "plt.show()\n"
   ]
  },
  {
   "cell_type": "code",
   "execution_count": null,
   "id": "614fd090",
   "metadata": {},
   "outputs": [],
   "source": [
    "import numpy as np\n",
    "import time\n",
    "\n",
    "def scan_xy_spectra_centered_fixed(\n",
    "    st, cam, spec,\n",
    "    x_size_um, y_size_um,\n",
    "    Nx, Ny,\n",
    "    center_x_mm, center_y_mm,\n",
    "    n_frames=5, settle_s=0.5\n",
    "):\n",
    "    \"\"\"\n",
    "    Raster-scan an X×Y region (in µm) on an Nx×Ny grid,\n",
    "    centered at (center_x_mm, center_y_mm) in mm.\n",
    "    Acquire n_frames per point, average them, and return\n",
    "    (specAxis_nm, data_cube) of shape (Nx, Ny, Npixels).\n",
    "    \"\"\"\n",
    "    # Convert µm → mm\n",
    "    x_size_mm = x_size_um * 1e-3\n",
    "    y_size_mm = y_size_um * 1e-3\n",
    "\n",
    "    # Compute start/end points (in mm)\n",
    "    x_start = center_x_mm - x_size_mm/2\n",
    "    x_end   = center_x_mm + x_size_mm/2\n",
    "    y_start = center_y_mm - y_size_mm/2\n",
    "    y_end   = center_y_mm + y_size_mm/2\n",
    "\n",
    "    # Generate the scan positions\n",
    "    x_pos = np.linspace(x_start, x_end, Nx)\n",
    "    y_pos = np.linspace(y_start, y_end, Ny)\n",
    "\n",
    "    # Build wavelength axis (nm)\n",
    "    spec.setup_pixels_from_camera(cam)\n",
    "    specAxis = np.array(spec.get_calibration())\n",
    "    Npix = specAxis.size\n",
    "\n",
    "    # Pre-allocate data cube\n",
    "    data = np.zeros((Nx, Ny, Npix), dtype=float)\n",
    "\n",
    "    # Perform the raster scan\n",
    "    for ix, x in enumerate(x_pos):\n",
    "        st.axis = 2\n",
    "        st.position = float(x)\n",
    "        time.sleep(settle_s)\n",
    "\n",
    "        for iy, y in enumerate(y_pos):\n",
    "            st.axis = 3\n",
    "            st.position = float(y)\n",
    "            time.sleep(settle_s)\n",
    "\n",
    "            # Acquire and average n_frames\n",
    "            frames = cam.grab(n_frames)\n",
    "            stack  = np.vstack([f.squeeze() for f in frames])\n",
    "            data[ix, iy, :] = stack.mean(axis=0)\n",
    "\n",
    "    return specAxis, data\n",
    "\n",
    "\n",
    "# 1) Read current stage‐center once (gets Python floats in mm)\n",
    "center_x = float(st.position)  # X in mm\n",
    "center_y = float(st.position)  # Y in mm\n",
    "\n",
    "# 2) Call the fixed‐center scan\n",
    "specAxis, cube = scan_xy_spectra_centered_fixed(\n",
    "    st, cam, spec,\n",
    "    x_size_um=500, y_size_um=500,\n",
    "    Nx=50, Ny=50,\n",
    "    center_x_mm=center_x,\n",
    "    center_y_mm=center_y,\n",
    "    n_frames=5,\n",
    "    settle_s=0.1\n",
    ")\n",
    "\n",
    "print(\"Data cube shape:\", cube.shape)  # → (50, 50, 1600)\n"
   ]
  },
  {
   "cell_type": "code",
   "execution_count": null,
   "id": "29f425fd",
   "metadata": {},
   "outputs": [],
   "source": []
  },
  {
   "cell_type": "code",
   "execution_count": 27,
   "id": "434799ab",
   "metadata": {},
   "outputs": [],
   "source": [
    "#turn off Newton chiller, close out camera and spectromter\n",
    "\n",
    "cam.set_cooler(False)  # turn off the chiller\n",
    "cam.stop_acquisition()  # Just in case it's still acquiring\n",
    "cam.close()\n",
    "spec.close()\n",
    "\n",
    "\n",
    "\n"
   ]
  },
  {
   "cell_type": "code",
   "execution_count": null,
   "id": "94dccd73",
   "metadata": {},
   "outputs": [],
   "source": [
    "#ASI motor cleanup\n",
    "stage.close()"
   ]
  }
 ],
 "metadata": {
  "kernelspec": {
   "display_name": "CARS",
   "language": "python",
   "name": "python3"
  },
  "language_info": {
   "codemirror_mode": {
    "name": "ipython",
    "version": 3
   },
   "file_extension": ".py",
   "mimetype": "text/x-python",
   "name": "python",
   "nbconvert_exporter": "python",
   "pygments_lexer": "ipython3",
   "version": "3.13.3"
  }
 },
 "nbformat": 4,
 "nbformat_minor": 5
}
