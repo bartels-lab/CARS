{
 "cells": [
  {
   "cell_type": "code",
   "execution_count": null,
   "id": "c49a6aa1",
   "metadata": {},
   "outputs": [
    {
     "name": "stdout",
     "output_type": "stream",
     "text": [
      "SDK2 cameras: 1\n",
      "Shamrock spectrographs: ['SR0455', 'SR0455']\n",
      "Camera sensor size: 1600 × 400 pixels\n",
      "Spectrometer info: TDeviceInfo(serial_number='SR0455')\n",
      "Number of gratings: 3\n",
      "Grating 1: TGratingInfo(lines=300.0, blaze_wavelength='1000', home=-15983, offset=-40)\n",
      "Grating 2: TGratingInfo(lines=600.0, blaze_wavelength='500', home=144133, offset=-22)\n",
      "Grating 3: TGratingInfo(lines=1200.0, blaze_wavelength='300', home=304234, offset=0)\n",
      "3\n"
     ]
    }
   ],
   "source": [
    "#Initialize the hardware\n",
    "\n",
    "import matplotlib.pyplot as plt\n",
    "import numpy as np\n",
    "\n",
    "from pylablib.devices.Andor import AndorSDK2Camera, ShamrockSpectrograph\n",
    "from pylablib.devices import Andor\n",
    "\n",
    "print(\"SDK2 cameras:\", Andor.get_cameras_number_SDK2())\n",
    "print(\"Shamrock spectrographs:\", Andor.list_shamrock_spectrographs())\n",
    "\n",
    "#connect to the andor camera (Newton)\n",
    "cam = AndorSDK2Camera(temperature=-40, fan_mode=\"on\")\n",
    "\n",
    "width, height = cam.get_detector_size()\n",
    "print(f\"Camera sensor size: {width} × {height} pixels\")\n",
    "\n",
    "# — Spectrometer —\n",
    "# ShamrockSpectrograph doesn’t need a context manager\n",
    "spec = ShamrockSpectrograph()\n",
    "info = spec.get_device_info()  # e.g. ('SR0455', ...)\n",
    "print(\"Spectrometer info:\", info)\n",
    "\n",
    "num_gratings = spec.get_gratings_number()\n",
    "print(f\"Number of gratings: {num_gratings}\")\n",
    "\n",
    "for i in range(1, num_gratings+1):\n",
    "    info = spec.get_grating_info(i)\n",
    "    print(f\"Grating {i}: {info}\")\n",
    "\n",
    "spec.set_grating(1)  # 300 lines/mm\n",
    "\n",
    "\n",
    "\n",
    "#use lab.drivers.motors.dll to connect and communicate with ASI stage\n",
    "from stages import Stages\n",
    "st = Stages()\n",
    "print(st.NumberOfAxes)"
   ]
  },
  {
   "cell_type": "code",
   "execution_count": null,
   "id": "93e2ea29",
   "metadata": {},
   "outputs": [],
   "source": [
    "# ---------------------------\n",
    "# Configure Spectromter and Camera\n",
    "# ---------------------------\n",
    "exposure_time = 0.5  # seconds\n",
    "em_gain = 200        # Gain between 0-255 for EMCCD models\n",
    "\n",
    "# Set full vertical binning (FVB)\n",
    "# FVB means bin across all vertical pixels — so ROI height is 1\n",
    "sensor_width, sensor_height = cam.get_detector_size()\n",
    "cam.set_read_mode(\"fvb\")\n",
    "cam.set_roi(0, cam.get_detector_size()[0])\n",
    "cam.set_exposure(exposure_time)\n",
    "cam.set_EMCCD_gain(em_gain)\n",
    "\n",
    "# Optional: Print some status\n",
    "print(f\"Exposure time: {cam.get_exposure()} s\")\n",
    "print(f\"EM gain: {cam.get_EMCCD_gain()}\")\n",
    "\n",
    "\n",
    "\n",
    "\n"
   ]
  },
  {
   "cell_type": "code",
   "execution_count": null,
   "id": "403bde74",
   "metadata": {},
   "outputs": [],
   "source": [
    "#set the min wavelength of the spectrometer\n",
    "# Step 3: Override a to shift spectrum so pixel 0 ≈ 785nm\n",
    "desired_lambda_min = 785  # nm\n",
    "a_new = desired_lambda_min\n",
    "\n",
    "# Step 2: Get calibration\n",
    "a, b, c, d = spec.get_calibration()\n",
    "\n",
    "# Step 4: Compute new center wavelength to pass to hardware\n",
    "N = cam.get_detector_size()[0]\n",
    "x_center = N // 2\n",
    "lambda_center = a_new + b*x_center + c*x_center**2 + d*x_center**3\n",
    "\n",
    "# Step 5: Set spectrometer\n",
    "spec.set_wavelength(lambda_center * 1e-9)\n",
    "\n",
    "print(\"Center wavelength:\", spec.get_wavelength(), \"nm\")\n",
    "\n",
    "def get_spectral_axis(spec, num_pixels):\n",
    "    a, b, c, d = spec.get_wavelength_coefficients()\n",
    "    x = np.arange(num_pixels)\n",
    "    return a_new + b*x + c*x**2 + d*x**3\n",
    "\n",
    "\n",
    "spec_axis = get_spectral_axis(spec, cam.get_detector_size()[0])"
   ]
  },
  {
   "cell_type": "code",
   "execution_count": 18,
   "id": "fb49f1b8",
   "metadata": {},
   "outputs": [
    {
     "data": {
      "text/plain": [
       "8.000100097656251e-07"
      ]
     },
     "execution_count": 18,
     "metadata": {},
     "output_type": "execute_result"
    }
   ],
   "source": [
    "# Set wavelength to current wavelength — acts like a stop\n",
    "current_wl = spec.get_wavelength()\n",
    "spec.set_wavelength(current_wl)\n"
   ]
  },
  {
   "cell_type": "code",
   "execution_count": null,
   "id": "1b4ae216",
   "metadata": {},
   "outputs": [],
   "source": [
    "\n"
   ]
  },
  {
   "cell_type": "code",
   "execution_count": null,
   "id": "03c159e0",
   "metadata": {},
   "outputs": [],
   "source": [
    "\n",
    "\n",
    "frame = cam.snap()\n",
    "\n",
    "\n",
    "print(\"Spectrum acquired. Length:\", len(frame))\n",
    "\n",
    "# ---------------------------\n",
    "# Plot the spectrum\n",
    "# ---------------------------\n",
    "plt.figure(figsize=(8, 4))\n",
    "plt.plot(frame, label='Raw EMCCD Signal')\n",
    "plt.xlabel(\"Pixel\")\n",
    "plt.ylabel(\"Intensity (a.u.)\")\n",
    "plt.title(\"Newton EMCCD Spectrum (FVB)\")\n",
    "plt.legend()\n",
    "plt.tight_layout()\n",
    "plt.show()"
   ]
  },
  {
   "cell_type": "code",
   "execution_count": 17,
   "id": "9ae72721",
   "metadata": {},
   "outputs": [
    {
     "name": "stdout",
     "output_type": "stream",
     "text": [
      "⚠️ No frame from read_newest_image(). Trying read_multiple_images()\n"
     ]
    },
    {
     "ename": "TypeError",
     "evalue": "'slice' object is not iterable",
     "output_type": "error",
     "traceback": [
      "\u001b[1;31m---------------------------------------------------------------------------\u001b[0m",
      "\u001b[1;31mTypeError\u001b[0m                                 Traceback (most recent call last)",
      "Cell \u001b[1;32mIn[17], line 30\u001b[0m\n\u001b[0;32m     28\u001b[0m cam\u001b[38;5;241m.\u001b[39mstart_acquisition()\n\u001b[0;32m     29\u001b[0m time\u001b[38;5;241m.\u001b[39msleep(\u001b[38;5;241m0.6\u001b[39m)\n\u001b[1;32m---> 30\u001b[0m frames \u001b[38;5;241m=\u001b[39m \u001b[43mcam\u001b[49m\u001b[38;5;241;43m.\u001b[39;49m\u001b[43mread_multiple_images\u001b[49m\u001b[43m(\u001b[49m\u001b[38;5;28;43mslice\u001b[39;49m\u001b[43m(\u001b[49m\u001b[38;5;241;43m0\u001b[39;49m\u001b[43m,\u001b[49m\u001b[43m \u001b[49m\u001b[38;5;241;43m1\u001b[39;49m\u001b[43m)\u001b[49m\u001b[43m)\u001b[49m\n\u001b[0;32m     31\u001b[0m cam\u001b[38;5;241m.\u001b[39mstop_acquisition()\n\u001b[0;32m     32\u001b[0m frame \u001b[38;5;241m=\u001b[39m frames[\u001b[38;5;241m0\u001b[39m] \u001b[38;5;28;01mif\u001b[39;00m frames \u001b[38;5;28;01melse\u001b[39;00m \u001b[38;5;28;01mNone\u001b[39;00m\n",
      "File \u001b[1;32mc:\\Users\\admin2\\.conda\\envs\\CARS\\Lib\\site-packages\\pylablib\\core\\devio\\interface.py:666\u001b[0m, in \u001b[0;36muse_parameters.<locals>.wrapper.<locals>.wrapped\u001b[1;34m(*args, **kwargs)\u001b[0m\n\u001b[0;32m    663\u001b[0m \u001b[38;5;129m@functools\u001b[39m\u001b[38;5;241m.\u001b[39mwraps(func)\n\u001b[0;32m    664\u001b[0m \u001b[38;5;28;01mdef\u001b[39;00m\u001b[38;5;250m \u001b[39m\u001b[38;5;21mwrapped\u001b[39m(\u001b[38;5;241m*\u001b[39margs, \u001b[38;5;241m*\u001b[39m\u001b[38;5;241m*\u001b[39mkwargs):\n\u001b[0;32m    665\u001b[0m     all_args\u001b[38;5;241m=\u001b[39mparse_args(args,kwargs)\n\u001b[1;32m--> 666\u001b[0m     res\u001b[38;5;241m=\u001b[39m\u001b[43mfunc\u001b[49m\u001b[43m(\u001b[49m\u001b[38;5;241;43m*\u001b[39;49m\u001b[38;5;241;43m*\u001b[39;49m\u001b[43mall_args\u001b[49m\u001b[43m)\u001b[49m\n\u001b[0;32m    667\u001b[0m     \u001b[38;5;28;01mreturn\u001b[39;00m parse_reply(res,args,kwargs)\n",
      "File \u001b[1;32mc:\\Users\\admin2\\.conda\\envs\\CARS\\Lib\\site-packages\\pylablib\\devices\\interface\\camera.py:560\u001b[0m, in \u001b[0;36mICamera.read_multiple_images\u001b[1;34m(self, rng, peek, missing_frame, return_info, return_rng)\u001b[0m\n\u001b[0;32m    558\u001b[0m \u001b[38;5;28;01mif\u001b[39;00m missing_frame\u001b[38;5;241m==\u001b[39m\u001b[38;5;124m\"\u001b[39m\u001b[38;5;124mnone\u001b[39m\u001b[38;5;124m\"\u001b[39m \u001b[38;5;129;01mand\u001b[39;00m \u001b[38;5;28mself\u001b[39m\u001b[38;5;241m.\u001b[39m_frame_format\u001b[38;5;241m!=\u001b[39m\u001b[38;5;124m\"\u001b[39m\u001b[38;5;124mlist\u001b[39m\u001b[38;5;124m\"\u001b[39m:\n\u001b[0;32m    559\u001b[0m     \u001b[38;5;28;01mraise\u001b[39;00m \u001b[38;5;167;01mValueError\u001b[39;00m(\u001b[38;5;124m\"\u001b[39m\u001b[38;5;124m'\u001b[39m\u001b[38;5;124mnone\u001b[39m\u001b[38;5;124m'\u001b[39m\u001b[38;5;124m missing frames mode is only supported for \u001b[39m\u001b[38;5;124m'\u001b[39m\u001b[38;5;124mlist\u001b[39m\u001b[38;5;124m'\u001b[39m\u001b[38;5;124m file format; current format is \u001b[39m\u001b[38;5;132;01m{}\u001b[39;00m\u001b[38;5;124m\"\u001b[39m\u001b[38;5;241m.\u001b[39mformat(\u001b[38;5;28mself\u001b[39m\u001b[38;5;241m.\u001b[39m_frame_format))\n\u001b[1;32m--> 560\u001b[0m rng\u001b[38;5;241m=\u001b[39m\u001b[38;5;28;43mself\u001b[39;49m\u001b[38;5;241;43m.\u001b[39;49m\u001b[43m_trim_images_range\u001b[49m\u001b[43m(\u001b[49m\u001b[43mrng\u001b[49m\u001b[43m)\u001b[49m\n\u001b[0;32m    561\u001b[0m \u001b[38;5;28;01mif\u001b[39;00m rng \u001b[38;5;129;01mis\u001b[39;00m \u001b[38;5;28;01mNone\u001b[39;00m \u001b[38;5;129;01mor\u001b[39;00m rng[\u001b[38;5;241m0\u001b[39m] \u001b[38;5;129;01mis\u001b[39;00m \u001b[38;5;28;01mNone\u001b[39;00m:\n\u001b[0;32m    562\u001b[0m     result\u001b[38;5;241m=\u001b[39m\u001b[38;5;28mtuple\u001b[39m([\u001b[38;5;28;01mNone\u001b[39;00m \u001b[38;5;28;01mfor\u001b[39;00m inc \u001b[38;5;129;01min\u001b[39;00m [\u001b[38;5;28;01mTrue\u001b[39;00m,return_info,return_rng] \u001b[38;5;28;01mif\u001b[39;00m inc])\n",
      "File \u001b[1;32mc:\\Users\\admin2\\.conda\\envs\\CARS\\Lib\\site-packages\\pylablib\\devices\\interface\\camera.py:523\u001b[0m, in \u001b[0;36mICamera._trim_images_range\u001b[1;34m(self, rng)\u001b[0m\n\u001b[0;32m    521\u001b[0m     \u001b[38;5;28;01mreturn\u001b[39;00m \u001b[38;5;28mself\u001b[39m\u001b[38;5;241m.\u001b[39m_frame_counter\u001b[38;5;241m.\u001b[39mget_new_frames_range(),\u001b[38;5;241m0\u001b[39m\n\u001b[0;32m    522\u001b[0m \u001b[38;5;28;01melse\u001b[39;00m:\n\u001b[1;32m--> 523\u001b[0m     \u001b[38;5;28;01mreturn\u001b[39;00m \u001b[38;5;28;43mself\u001b[39;49m\u001b[38;5;241;43m.\u001b[39;49m\u001b[43m_frame_counter\u001b[49m\u001b[38;5;241;43m.\u001b[39;49m\u001b[43mtrim_frames_range\u001b[49m\u001b[43m(\u001b[49m\u001b[43mrng\u001b[49m\u001b[43m)\u001b[49m\n",
      "File \u001b[1;32mc:\\Users\\admin2\\.conda\\envs\\CARS\\Lib\\site-packages\\pylablib\\devices\\interface\\camera.py:849\u001b[0m, in \u001b[0;36mFrameCounter.trim_frames_range\u001b[1;34m(self, rng)\u001b[0m\n\u001b[0;32m    847\u001b[0m \u001b[38;5;28;01mif\u001b[39;00m \u001b[38;5;28mself\u001b[39m\u001b[38;5;241m.\u001b[39mbuffer_size \u001b[38;5;129;01mis\u001b[39;00m \u001b[38;5;28;01mNone\u001b[39;00m:\n\u001b[0;32m    848\u001b[0m     \u001b[38;5;28;01mreturn\u001b[39;00m \u001b[38;5;28;01mNone\u001b[39;00m\n\u001b[1;32m--> 849\u001b[0m rng\u001b[38;5;241m=\u001b[39m\u001b[38;5;28;43mlist\u001b[39;49m\u001b[43m(\u001b[49m\u001b[43mrng\u001b[49m\u001b[43m)\u001b[49m\n\u001b[0;32m    850\u001b[0m acquired_frames\u001b[38;5;241m=\u001b[39m\u001b[38;5;28mself\u001b[39m\u001b[38;5;241m.\u001b[39mlast_acquired_frame\u001b[38;5;241m+\u001b[39m\u001b[38;5;241m1\u001b[39m\n\u001b[0;32m    851\u001b[0m \u001b[38;5;28;01mif\u001b[39;00m rng[\u001b[38;5;241m0\u001b[39m] \u001b[38;5;129;01mis\u001b[39;00m \u001b[38;5;28;01mNone\u001b[39;00m:\n",
      "\u001b[1;31mTypeError\u001b[0m: 'slice' object is not iterable"
     ]
    }
   ],
   "source": [
    "import time\n",
    "import matplotlib.pyplot as plt\n",
    "\n",
    "# 1. Reset acquisition\n",
    "cam.stop_acquisition()\n",
    "cam.clear_acquisition()\n",
    "\n",
    "# 2. Configure camera\n",
    "cam.set_read_mode(\"fvb\")\n",
    "cam.set_exposure(0.5)\n",
    "cam.set_EMCCD_gain(200)\n",
    "\n",
    "# 3. Start acquisition\n",
    "cam.start_acquisition()\n",
    "\n",
    "# 4. Wait slightly longer than exposure\n",
    "time.sleep(0.6)\n",
    "\n",
    "# 5. Try to read a frame\n",
    "frame = cam.read_newest_image()\n",
    "\n",
    "# 6. Stop acquisition\n",
    "cam.stop_acquisition()\n",
    "\n",
    "# 7. Fallback if frame is None\n",
    "if frame is None:\n",
    "    print(\"⚠️ No frame from read_newest_image(). Trying read_multiple_images()\")\n",
    "    cam.start_acquisition()\n",
    "    time.sleep(0.6)\n",
    "    frames = cam.read_multiple_images(slice(0, 1))\n",
    "    cam.stop_acquisition()\n",
    "    frame = frames[0] if frames else None\n",
    "\n",
    "# 8. Plot or error\n",
    "if frame is None:\n",
    "    print(\"❌ No frame acquired after all attempts.\")\n",
    "else:\n",
    "    print(\"✅ Spectrum acquired. Length:\", len(frame))\n",
    "    plt.figure(figsize=(8, 4))\n",
    "    plt.plot(frame, label=\"Raw EMCCD Signal\")\n",
    "    plt.xlabel(\"Pixel\")\n",
    "    plt.ylabel(\"Intensity (a.u.)\")\n",
    "    plt.title(\"Newton EMCCD Spectrum (FVB)\")\n",
    "    plt.legend()\n",
    "    plt.tight_layout()\n",
    "    plt.show()\n"
   ]
  },
  {
   "cell_type": "code",
   "execution_count": 11,
   "id": "614fd090",
   "metadata": {},
   "outputs": [
    {
     "ename": "TypeError",
     "evalue": "object of type 'NoneType' has no len()",
     "output_type": "error",
     "traceback": [
      "\u001b[1;31m---------------------------------------------------------------------------\u001b[0m",
      "\u001b[1;31mTypeError\u001b[0m                                 Traceback (most recent call last)",
      "Cell \u001b[1;32mIn[11], line 1\u001b[0m\n\u001b[1;32m----> 1\u001b[0m \u001b[38;5;28mprint\u001b[39m(\u001b[38;5;124m\"\u001b[39m\u001b[38;5;124mSpectrum acquired. Length:\u001b[39m\u001b[38;5;124m\"\u001b[39m, \u001b[38;5;28;43mlen\u001b[39;49m\u001b[43m(\u001b[49m\u001b[43mframe\u001b[49m\u001b[43m)\u001b[49m)\n\u001b[0;32m      3\u001b[0m \u001b[38;5;66;03m# ---------------------------\u001b[39;00m\n\u001b[0;32m      4\u001b[0m \u001b[38;5;66;03m# Plot the spectrum\u001b[39;00m\n\u001b[0;32m      5\u001b[0m \u001b[38;5;66;03m# ---------------------------\u001b[39;00m\n\u001b[0;32m      6\u001b[0m plt\u001b[38;5;241m.\u001b[39mfigure(figsize\u001b[38;5;241m=\u001b[39m(\u001b[38;5;241m8\u001b[39m, \u001b[38;5;241m4\u001b[39m))\n",
      "\u001b[1;31mTypeError\u001b[0m: object of type 'NoneType' has no len()"
     ]
    }
   ],
   "source": [
    "print(\"Spectrum acquired. Length:\", len(frame))\n",
    "\n",
    "# ---------------------------\n",
    "# Plot the spectrum\n",
    "# ---------------------------\n",
    "plt.figure(figsize=(8, 4))\n",
    "plt.plot(frame, label='Raw EMCCD Signal')\n",
    "plt.xlabel(\"Pixel\")\n",
    "plt.ylabel(\"Intensity (a.u.)\")\n",
    "plt.title(\"Newton EMCCD Spectrum (FVB)\")\n",
    "plt.legend()\n",
    "plt.tight_layout()\n",
    "plt.show()"
   ]
  },
  {
   "cell_type": "code",
   "execution_count": null,
   "id": "29f425fd",
   "metadata": {},
   "outputs": [],
   "source": [
    "st._axis = 1\n",
    "st.position = 0"
   ]
  },
  {
   "cell_type": "code",
   "execution_count": 19,
   "id": "434799ab",
   "metadata": {},
   "outputs": [],
   "source": [
    "cam.set_cooler(False)  # You've already done this ✅\n",
    "cam.stop_acquisition()  # Just in case it's still acquiring\n",
    "cam.close()\n",
    "\n",
    "spec.close()\n",
    "\n",
    "\n",
    "\n"
   ]
  },
  {
   "cell_type": "code",
   "execution_count": 10,
   "id": "44e49b28",
   "metadata": {},
   "outputs": [],
   "source": [
    "spec.close()\n"
   ]
  },
  {
   "cell_type": "code",
   "execution_count": 1,
   "id": "002bec30",
   "metadata": {},
   "outputs": [
    {
     "ename": "NameError",
     "evalue": "name 'st' is not defined",
     "output_type": "error",
     "traceback": [
      "\u001b[1;31m---------------------------------------------------------------------------\u001b[0m",
      "\u001b[1;31mNameError\u001b[0m                                 Traceback (most recent call last)",
      "Cell \u001b[1;32mIn[1], line 1\u001b[0m\n\u001b[1;32m----> 1\u001b[0m \u001b[43mst\u001b[49m\u001b[38;5;241m.\u001b[39m_motor_form\u001b[38;5;241m.\u001b[39mDelete()\n\u001b[0;32m      2\u001b[0m \u001b[38;5;28;01mdel\u001b[39;00m st\n",
      "\u001b[1;31mNameError\u001b[0m: name 'st' is not defined"
     ]
    }
   ],
   "source": [
    "st._motor_form.Delete()\n",
    "del st"
   ]
  }
 ],
 "metadata": {
  "kernelspec": {
   "display_name": "CARS",
   "language": "python",
   "name": "python3"
  },
  "language_info": {
   "codemirror_mode": {
    "name": "ipython",
    "version": 3
   },
   "file_extension": ".py",
   "mimetype": "text/x-python",
   "name": "python",
   "nbconvert_exporter": "python",
   "pygments_lexer": "ipython3",
   "version": "3.13.3"
  }
 },
 "nbformat": 4,
 "nbformat_minor": 5
}
